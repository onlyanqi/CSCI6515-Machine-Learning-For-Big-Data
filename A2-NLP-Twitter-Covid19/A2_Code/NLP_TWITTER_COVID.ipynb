{
 "cells": [
  {
   "cell_type": "code",
   "execution_count": null,
   "metadata": {
    "id": "_YVaqjwa3Fh8"
   },
   "outputs": [],
   "source": [
    "from google.colab import drive\n",
    "drive.mount('/content/drive/')"
   ]
  },
  {
   "cell_type": "code",
   "execution_count": null,
   "metadata": {
    "id": "5_wQR7CC3Mtc"
   },
   "outputs": [],
   "source": [
    "!pip install -q nltk"
   ]
  },
  {
   "cell_type": "code",
   "execution_count": null,
   "metadata": {
    "id": "VxNy_g5s3Zw5"
   },
   "outputs": [],
   "source": [
    "!pip install -q numpy"
   ]
  },
  {
   "cell_type": "code",
   "execution_count": null,
   "metadata": {
    "id": "iepaPlsf3iY1"
   },
   "outputs": [],
   "source": [
    "!pip install -q pandas"
   ]
  },
  {
   "cell_type": "code",
   "execution_count": null,
   "metadata": {
    "id": "IN8l76ZC3k1z"
   },
   "outputs": [],
   "source": [
    "!pip install -q gensim"
   ]
  },
  {
   "cell_type": "code",
   "execution_count": null,
   "metadata": {
    "id": "19xFzfK_6A2G"
   },
   "outputs": [],
   "source": [
    "!pip install -q sklearn"
   ]
  },
  {
   "cell_type": "code",
   "execution_count": null,
   "metadata": {
    "id": "cKEvK8WUhqSB"
   },
   "outputs": [],
   "source": [
    "!pip install -q matplotlib"
   ]
  },
  {
   "cell_type": "code",
   "execution_count": 205,
   "metadata": {
    "id": "x1YuRpO0LwuG"
   },
   "outputs": [],
   "source": [
    "!pip install -q mlxtend"
   ]
  },
  {
   "cell_type": "code",
   "execution_count": null,
   "metadata": {
    "id": "ua4B11-0GQan"
   },
   "outputs": [],
   "source": [
    "mlxtend"
   ]
  },
  {
   "cell_type": "code",
   "execution_count": 8,
   "metadata": {
    "colab": {
     "base_uri": "https://localhost:8080/",
     "height": 73
    },
    "id": "PLu-pogI6jlf",
    "outputId": "118faf69-9818-44f3-a1e7-f26cd4ee91b0"
   },
   "outputs": [
    {
     "name": "stdout",
     "output_type": "stream",
     "text": [
      "[nltk_data] Downloading package stopwords to /root/nltk_data...\n",
      "[nltk_data]   Unzipping corpora/stopwords.zip.\n"
     ]
    },
    {
     "data": {
      "text/plain": [
       "True"
      ]
     },
     "execution_count": 8,
     "metadata": {
      "tags": []
     },
     "output_type": "execute_result"
    }
   ],
   "source": [
    "import nltk\n",
    "nltk.download('stopwords')"
   ]
  },
  {
   "cell_type": "code",
   "execution_count": 9,
   "metadata": {
    "colab": {
     "base_uri": "https://localhost:8080/",
     "height": 73
    },
    "id": "i43Bki0hVcCv",
    "outputId": "f8b3953e-65f6-425f-c809-880e0b60b2be"
   },
   "outputs": [
    {
     "name": "stdout",
     "output_type": "stream",
     "text": [
      "[nltk_data] Downloading package punkt to /root/nltk_data...\n",
      "[nltk_data]   Unzipping tokenizers/punkt.zip.\n"
     ]
    },
    {
     "data": {
      "text/plain": [
       "True"
      ]
     },
     "execution_count": 9,
     "metadata": {
      "tags": []
     },
     "output_type": "execute_result"
    }
   ],
   "source": [
    "nltk.download('punkt')"
   ]
  },
  {
   "cell_type": "code",
   "execution_count": 120,
   "metadata": {
    "colab": {
     "base_uri": "https://localhost:8080/",
     "height": 327,
     "resources": {
      "http://localhost:8080/nbextensions/google.colab/files.js": {
       "data": "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",
       "headers": [
        [
         "content-type",
         "application/javascript"
        ]
       ],
       "ok": true,
       "status": 200,
       "status_text": "OK"
      }
     }
    },
    "id": "4Mh-si8K5Tkf",
    "outputId": "87f4e2e3-92e8-4039-b745-6f0799893d8a"
   },
   "outputs": [
    {
     "data": {
      "text/html": [
       "\n",
       "     <input type=\"file\" id=\"files-9c24c68b-2bff-4e99-a553-605c806b3e25\" name=\"files[]\" multiple disabled\n",
       "        style=\"border:none\" />\n",
       "     <output id=\"result-9c24c68b-2bff-4e99-a553-605c806b3e25\">\n",
       "      Upload widget is only available when the cell has been executed in the\n",
       "      current browser session. Please rerun this cell to enable.\n",
       "      </output>\n",
       "      <script src=\"/nbextensions/google.colab/files.js\"></script> "
      ],
      "text/plain": [
       "<IPython.core.display.HTML object>"
      ]
     },
     "metadata": {
      "tags": []
     },
     "output_type": "display_data"
    },
    {
     "name": "stdout",
     "output_type": "stream",
     "text": [
      "Saving Canada_COVID19_data_M1.csv to Canada_COVID19_data_M1 (4).csv\n",
      "Saving Canada_COVID19_data_M2.csv to Canada_COVID19_data_M2 (4).csv\n",
      "Saving DecreaseInCOVIDAprToSepM1.csv to DecreaseInCOVIDAprToSepM1 (4).csv\n",
      "Saving DecreaseInCOVIDAprToSepM2.csv to DecreaseInCOVIDAprToSepM2 (1).csv\n",
      "Saving IncreaseInTweetAprToSepM1.csv to IncreaseInTweetAprToSepM1 (4).csv\n",
      "Saving IncreaseInTweetAprToSepM2.csv to IncreaseInTweetAprToSepM2 (1).csv\n",
      "Saving NoChangeTotalM1.csv to NoChangeTotalM1.csv\n",
      "Saving NoChangeTotalM2.csv to NoChangeTotalM2 (1).csv\n"
     ]
    }
   ],
   "source": [
    "from google.colab import files\n",
    "uploaded = files.upload()"
   ]
  },
  {
   "cell_type": "code",
   "execution_count": 179,
   "metadata": {
    "colab": {
     "base_uri": "https://localhost:8080/",
     "height": 239
    },
    "id": "oATVOYZ05WhG",
    "outputId": "d5d56438-35c4-45bf-bfdc-7b0810bf7927"
   },
   "outputs": [
    {
     "data": {
      "text/plain": [
       "0                                                    NaN\n",
       "1                                                    NaN\n",
       "2                                                    NaN\n",
       "3                                                    NaN\n",
       "4                                                    NaN\n",
       "                             ...                        \n",
       "409     RT CPHOCanada This illustration adapted from ...\n",
       "410     In the past week there were over 300000 new C...\n",
       "411     Among people exposed to COVID19 in their home...\n",
       "412     As we continue to address the impacts of COVI...\n",
       "413     Want trusted up to date information on COVID1...\n",
       "Name: Tweet, Length: 414, dtype: object"
      ]
     },
     "execution_count": 179,
     "metadata": {
      "tags": []
     },
     "output_type": "execute_result"
    }
   ],
   "source": [
    "import pandas as pd\n",
    "import io\n",
    "\n",
    "modelnumber='M2'\n",
    "df = pd.read_csv(io.StringIO(uploaded['Canada_COVID19_data_'+modelnumber+'.csv'].decode('utf-8')))\n",
    "df['Tweet']"
   ]
  },
  {
   "cell_type": "code",
   "execution_count": 180,
   "metadata": {
    "colab": {
     "base_uri": "https://localhost:8080/",
     "height": 54
    },
    "id": "D0CoWLuf5rPx",
    "outputId": "e85b37e9-c4fd-4cc2-e808-e67460c59a7e"
   },
   "outputs": [
    {
     "name": "stderr",
     "output_type": "stream",
     "text": [
      "/usr/local/lib/python3.6/dist-packages/ipykernel_launcher.py:49: DeprecationWarning: Call to deprecated `__getitem__` (Method will be removed in 4.0.0, use self.wv.__getitem__() instead).\n",
      "/usr/local/lib/python3.6/dist-packages/ipykernel_launcher.py:51: DeprecationWarning: Call to deprecated `__getitem__` (Method will be removed in 4.0.0, use self.wv.__getitem__() instead).\n"
     ]
    }
   ],
   "source": [
    "\n",
    "from gensim.models import Word2Vec\n",
    "  \n",
    "from nltk.cluster import KMeansClusterer\n",
    "import nltk\n",
    "from nltk.corpus import stopwords\n",
    "import numpy as np \n",
    "import pandas as pd \n",
    "import io\n",
    "  \n",
    "from sklearn import cluster\n",
    "from sklearn import metrics\n",
    "\n",
    "df=df.dropna();\n",
    "\n",
    "df['Tweet'] = df['Tweet'].str.lower()\n",
    "corpus = df['Tweet'].to_numpy()\n",
    "tweets1 = corpus[0:207]    # tweets from Nov 2019 to Apr 2020    \n",
    "tweets2 = corpus[207:360]  # tweets from Apr 2020 to Sep 2020\n",
    "tweets3 = corpus[360:396]  # tweets from Sep 2020 to Oct 2020\n",
    "tweetcategories1 = df['category_value'].to_numpy()[0:207]\n",
    "tweetcategories2 = df['category_value'].to_numpy()[207:360]\n",
    "tweetcategories3 = df['category_value'].to_numpy()[360:396]\n",
    "\n",
    "tweets1 = [nltk.word_tokenize(tweet) for tweet in tweets1]\n",
    "tweets2 = [nltk.word_tokenize(tweet) for tweet in tweets2]\n",
    "tweets3 = [nltk.word_tokenize(tweet) for tweet in tweets3]\n",
    "\n",
    "for i in range(len(tweets1)):\n",
    "    tweets1[i] = [word for word in tweets1[i] if word not in stopwords.words('english')]\n",
    "\n",
    "for i in range(len(tweets2)):\n",
    "    tweets2[i] = [word for word in tweets2[i] if word not in stopwords.words('english')]\n",
    "\n",
    "for i in range(len(tweets3)):\n",
    "    tweets3[i] = [word for word in tweets3[i] if word not in stopwords.words('english')]\n",
    "\n",
    "corpus = tweets1+tweets2+tweets3\n",
    "\n",
    "# Create word embedding model for the corpus of all tweets\n",
    "model = Word2Vec(corpus, min_count=1)\n",
    "\n",
    "def tweet_vectorizer(tweet, model):\n",
    "    tweet_vec =[]\n",
    "    numw = 0\n",
    "    for w in tweet:\n",
    "        try:\n",
    "            if numw == 0:\n",
    "                tweet_vec = model[w]\n",
    "            else:\n",
    "                tweet_vec = np.add(tweet_vec, model[w])\n",
    "            numw+=1\n",
    "        except:\n",
    "            pass\n",
    "     \n",
    "    return np.asarray(tweet_vec) / numw\n",
    "\n",
    "X1=[]  #Vectorized tweets from Nov 2019 to Apr 2020\n",
    "X2=[]  #Vectorized tweets from Apr 2020 to Sep 2020\n",
    "X3=[]  #Vectorized tweets from Sep 2020 to Oct 2020\n",
    "\n",
    "# Vectorize the tweets by using the above Word2Vec model\n",
    "for tweet in tweets1:\n",
    "    X1.append(tweet_vectorizer(tweet, model)) \n",
    "\n",
    "for tweet in tweets2:\n",
    "    X2.append(tweet_vectorizer(tweet, model)) \n",
    "\n",
    "for tweet in tweets3:\n",
    "    X3.append(tweet_vectorizer(tweet, model)) \n",
    "\n",
    "# Corresponding tweet labels\n",
    "Y1 = [0 if y == 0 else 1 if y > 0 else 2 for y in tweetcategories1]\n",
    "Y2 = [0 if y == 0 else 1 if y > 0 else 2 for y in tweetcategories2]\n",
    "Y3 = [0 if y == 0 else 1 if y > 0 else 2 for y in tweetcategories3]\n",
    "\n",
    "    \n"
   ]
  },
  {
   "cell_type": "code",
   "execution_count": 181,
   "metadata": {
    "colab": {
     "base_uri": "https://localhost:8080/",
     "height": 54
    },
    "id": "zYduWK8g6JLC",
    "outputId": "b47d3652-1c23-4580-afef-0ad2f857e85f"
   },
   "outputs": [
    {
     "name": "stderr",
     "output_type": "stream",
     "text": [
      "/usr/local/lib/python3.6/dist-packages/ipykernel_launcher.py:49: DeprecationWarning: Call to deprecated `__getitem__` (Method will be removed in 4.0.0, use self.wv.__getitem__() instead).\n",
      "/usr/local/lib/python3.6/dist-packages/ipykernel_launcher.py:51: DeprecationWarning: Call to deprecated `__getitem__` (Method will be removed in 4.0.0, use self.wv.__getitem__() instead).\n"
     ]
    }
   ],
   "source": [
    "# Tweets from datset2 for increase in COVID \n",
    "df_new = pd.read_csv('IncreaseInTweetAprToSep'+modelnumber+'.csv')\n",
    "df_new[\"Tweet\"] = df_new[\"Tweet\"].str.lower()\n",
    "tweetAprtoSept_Increase = df_new[\"Tweet\"].to_numpy()\n",
    "tweetAprtoSept_Increase= [nltk.word_tokenize(tweet) for tweet in tweetAprtoSept_Increase]\n",
    "X_tweetAprtoSept_Increase=[]\n",
    "\n",
    "for i in range(len(tweetAprtoSept_Increase)):\n",
    "    tweetAprtoSept_Increase[i] = [word for word in tweetAprtoSept_Increase[i] if word not in stopwords.words('english')]\n",
    "    \n",
    "for tweet in tweetAprtoSept_Increase:\n",
    "    X_tweetAprtoSept_Increase.append(tweet_vectorizer(tweet, model)) "
   ]
  },
  {
   "cell_type": "code",
   "execution_count": 182,
   "metadata": {
    "colab": {
     "base_uri": "https://localhost:8080/",
     "height": 54
    },
    "id": "r0uUPB0DVqV6",
    "outputId": "48dc40d3-75ba-422e-c594-f833a25f718a"
   },
   "outputs": [
    {
     "name": "stderr",
     "output_type": "stream",
     "text": [
      "/usr/local/lib/python3.6/dist-packages/ipykernel_launcher.py:49: DeprecationWarning: Call to deprecated `__getitem__` (Method will be removed in 4.0.0, use self.wv.__getitem__() instead).\n",
      "/usr/local/lib/python3.6/dist-packages/ipykernel_launcher.py:51: DeprecationWarning: Call to deprecated `__getitem__` (Method will be removed in 4.0.0, use self.wv.__getitem__() instead).\n"
     ]
    }
   ],
   "source": [
    "# Tweets from datset2 for decrease in COVID\n",
    "df_new2 = pd.read_csv('DecreaseInCOVIDAprToSep'+modelnumber+'.csv')\n",
    "df_new2[\"Tweet\"] = df_new2[\"Tweet\"].str.lower()\n",
    "df = df_new2[\"Tweet\"].dropna()\n",
    "tweetAprtoSept_Decrease = df.to_numpy()\n",
    "\n",
    "tweetAprtoSept_Decrease= [nltk.word_tokenize(tweet) for tweet in tweetAprtoSept_Decrease]\n",
    "X_tweetAprtoSept_Decrease=[]\n",
    "\n",
    "for i in range(len(tweetAprtoSept_Decrease)):\n",
    "    tweetAprtoSept_Decrease[i] = [word for word in tweetAprtoSept_Decrease[i] if word not in stopwords.words('english')]\n",
    "    \n",
    "for tweet in tweetAprtoSept_Decrease:\n",
    "    X_tweetAprtoSept_Decrease.append(tweet_vectorizer(tweet, model)) \n"
   ]
  },
  {
   "cell_type": "code",
   "execution_count": 183,
   "metadata": {
    "colab": {
     "base_uri": "https://localhost:8080/",
     "height": 276
    },
    "id": "eanXnoKvYk6C",
    "outputId": "dfbe2a12-42d9-4f5c-d819-53bf30bf61d2"
   },
   "outputs": [
    {
     "name": "stdout",
     "output_type": "stream",
     "text": [
      "14      this prepardenessmonth take 20 minutes to mak...\n",
      "15      prime minister justin trudeau accompanied by ...\n",
      "16      rt cmhcca the firsttime home buyer incentive ...\n",
      "17      prime minister justin trudeau discusses rural...\n",
      "18      prime minister justin trudeau announces a new...\n",
      "                             ...                        \n",
      "159     read cdcmmwr report on the first cases of 201...\n",
      "162     prime minister justin trudeau convened the in...\n",
      "163     on 211 who announced an official name for the...\n",
      "164     cdc is continually reassessing its recommenda...\n",
      "166     cdcs clinical team working with state and loc...\n",
      "Name: Tweet, Length: 142, dtype: object\n"
     ]
    },
    {
     "name": "stderr",
     "output_type": "stream",
     "text": [
      "/usr/local/lib/python3.6/dist-packages/ipykernel_launcher.py:49: DeprecationWarning: Call to deprecated `__getitem__` (Method will be removed in 4.0.0, use self.wv.__getitem__() instead).\n",
      "/usr/local/lib/python3.6/dist-packages/ipykernel_launcher.py:51: DeprecationWarning: Call to deprecated `__getitem__` (Method will be removed in 4.0.0, use self.wv.__getitem__() instead).\n"
     ]
    }
   ],
   "source": [
    "# Tweets from datset2 for no change in COVID\n",
    "df_new2 = pd.read_csv('NoChangeTotal'+modelnumber+'.csv')\n",
    "df_new2[\"Tweet\"] = df_new2[\"Tweet\"].str.lower()\n",
    "df = df_new2[\"Tweet\"].dropna()\n",
    "print(df)\n",
    "nochange = df.to_numpy()\n",
    "\n",
    "nochange\n",
    "nochange = [nltk.word_tokenize(tweet) for tweet in nochange if tweet != 'NaN']\n",
    "len(nochange)\n",
    "X_nochange=[]\n",
    "\n",
    "for i in range(len(nochange)):\n",
    "    nochange[i] = [word for word in nochange[i] if word not in stopwords.words('english')]\n",
    "    \n",
    "for tweet in nochange:\n",
    "    X_nochange.append(tweet_vectorizer(tweet, model)) "
   ]
  },
  {
   "cell_type": "code",
   "execution_count": 128,
   "metadata": {
    "colab": {
     "base_uri": "https://localhost:8080/",
     "height": 56
    },
    "id": "x6ovVV1fFeZ2",
    "outputId": "39bacc52-9e90-4520-c820-0eabc10fd942"
   },
   "outputs": [
    {
     "name": "stdout",
     "output_type": "stream",
     "text": [
      "[0, 2, 0, 2, 1, 0, 0, 1, 1, 1, 1, 0, 0, 0, 0, 0, 1, 0, 0, 0, 1, 0, 0, 0, 1, 0, 0, 0, 0, 0, 0, 1, 0, 0, 0, 0, 0, 0, 0, 2, 0, 0, 0, 0, 2, 0, 2, 0, 0, 2, 0, 0, 0, 0, 0, 1, 0, 0, 1, 0, 0, 1, 2, 2, 2, 1, 1, 0, 0, 1, 2, 1, 0, 2, 1, 0, 1, 0, 1, 0, 0, 1, 1, 2, 1, 1, 1, 2, 1, 1, 1, 0, 0, 1, 0, 0, 1, 0, 0, 1, 0, 1, 0, 0, 0, 2, 0, 1, 0, 0, 0, 0, 0, 0, 0, 1, 0, 0, 0, 2, 0, 1, 1, 2, 2, 0, 0, 0, 0, 0, 0, 0, 0, 0, 0, 1, 0, 0, 1, 0, 0, 1, 0, 0, 2, 0, 0, 0, 0, 0, 0, 0, 0, 0, 0, 0, 0, 0, 0, 0, 0, 0, 0, 0, 0, 0, 0, 0, 0, 1, 2, 1, 1, 1, 2, 1, 2, 2, 2, 2, 2, 1, 2, 1, 1, 1, 1, 1, 1, 2, 1, 1, 1, 1, 2, 1, 1, 1, 1, 1, 1, 1, 0, 0, 1, 1, 2, 1, 2, 1, 2, 1, 1, 1, 2, 0, 1, 2, 1, 0, 1, 1, 1, 2, 1, 0, 1, 1, 2, 0, 1, 0, 1, 1, 1, 1, 0, 1, 0, 1, 1, 1, 0, 0, 2, 1, 1, 1, 1, 0, 0, 1, 1, 0, 1, 1, 0, 0, 1, 1, 0, 0, 1, 2, 0, 1, 1, 1, 1, 0, 2, 0, 2, 0, 0, 1, 0, 0, 0, 1, 0, 0, 0, 0, 0, 0, 0, 1, 0, 0, 0, 0, 0, 0, 0, 0, 0, 0, 0, 0, 0, 0, 0, 0, 0, 0, 0, 0, 0, 0, 1, 0, 0, 0, 0, 0, 0, 0, 0, 0, 0, 0, 0, 0, 0, 0, 0, 0, 0, 0, 0, 0, 0, 0, 0, 0, 0, 0, 0, 0, 0, 0, 0, 0, 0, 0, 0, 0, 0, 0, 0, 0, 0, 0, 0, 0, 0, 0, 0, 1]\n"
     ]
    }
   ],
   "source": [
    "# Clustering\n",
    "from nltk.cluster import KMeansClusterer\n",
    "import nltk\n",
    "NUM_CLUSTERS=3\n",
    "clustermodel = KMeansClusterer(NUM_CLUSTERS, distance=nltk.cluster.util.cosine_distance, repeats=25)\n",
    "assigned_clusters = clustermodel.cluster(X_train, assign_clusters=True)\n",
    "print (assigned_clusters)\n"
   ]
  },
  {
   "cell_type": "code",
   "execution_count": null,
   "metadata": {
    "colab": {
     "base_uri": "https://localhost:8080/",
     "height": 34
    },
    "id": "3_6mYe_ljzUx",
    "outputId": "3cf9e5a1-fcbf-4f37-bfd7-85e24253fbd2"
   },
   "outputs": [
    {
     "name": "stdout",
     "output_type": "stream",
     "text": [
      "No change: 0: 43, 1:3, 2:2\n"
     ]
    }
   ],
   "source": [
    "cluster_numbers = []\n",
    "count0 = 0\n",
    "count1 = 0\n",
    "count2 = 0  \n",
    "\n",
    "for i in X_dev1:\n",
    "  cluster_numbers.append(clustermodel.classify_vectorspace(i))\n",
    "\n",
    "for i in cluster_numbers:\n",
    "  if(i== 0):\n",
    "    count0 += 1\n",
    "  if(i == 1):\n",
    "    count1 += 1\n",
    "  if(i == 2):\n",
    "    count2 += 1\n",
    "print(\"No change: 0: {}, 1:{}, 2:{}\".format(count0, count1, count2))"
   ]
  },
  {
   "cell_type": "code",
   "execution_count": null,
   "metadata": {
    "colab": {
     "base_uri": "https://localhost:8080/",
     "height": 34
    },
    "id": "07tfyAQWkxj_",
    "outputId": "add98b56-136f-4649-9139-a7604531a8ee"
   },
   "outputs": [
    {
     "name": "stdout",
     "output_type": "stream",
     "text": [
      "No change: 0: 54, 1:23, 2:7\n"
     ]
    }
   ],
   "source": [
    "cluster_numbers = []\n",
    "count0 = 0\n",
    "count1 = 0\n",
    "count2 = 0  \n",
    "\n",
    "for i in X_dev2:\n",
    "  cluster_numbers.append(clustermodel.classify_vectorspace(i))\n",
    "\n",
    "for i in cluster_numbers:\n",
    "  if(i== 0):\n",
    "    count0 += 1\n",
    "  if(i == 1):\n",
    "    count1 += 1\n",
    "  if(i == 2):\n",
    "    count2 += 1\n",
    "print(\"No change: 0: {}, 1:{}, 2:{}\".format(count0, count1, count2))"
   ]
  },
  {
   "cell_type": "code",
   "execution_count": null,
   "metadata": {
    "colab": {
     "base_uri": "https://localhost:8080/",
     "height": 34
    },
    "id": "zrMnkw0YmAbC",
    "outputId": "8d906981-f7ad-4517-83c8-21de56c9e293"
   },
   "outputs": [
    {
     "name": "stdout",
     "output_type": "stream",
     "text": [
      "No change: 0: 55, 1:33, 2:14\n"
     ]
    }
   ],
   "source": [
    "cluster_numbers = []\n",
    "count0 = 0\n",
    "count1 = 0\n",
    "count2 = 0  \n",
    "\n",
    "for i in X_dev3:\n",
    "  cluster_numbers.append(clustermodel.classify_vectorspace(i))\n",
    "\n",
    "for i in cluster_numbers:\n",
    "  if(i== 0):\n",
    "    count0 += 1\n",
    "  if(i == 1):\n",
    "    count1 += 1\n",
    "  if(i == 2):\n",
    "    count2 += 1\n",
    "print(\"No change: 0: {}, 1:{}, 2:{}\".format(count0, count1, count2))"
   ]
  },
  {
   "cell_type": "code",
   "execution_count": 199,
   "metadata": {
    "colab": {
     "base_uri": "https://localhost:8080/",
     "height": 73
    },
    "id": "mMAycKFfmK5G",
    "outputId": "912ac2b8-9a91-4ae6-84bc-5fd7647552a2"
   },
   "outputs": [
    {
     "data": {
      "text/plain": [
       "KNeighborsClassifier(algorithm='auto', leaf_size=30, metric='cosine',\n",
       "                     metric_params=None, n_jobs=None, n_neighbors=4, p=2,\n",
       "                     weights='uniform')"
      ]
     },
     "execution_count": 199,
     "metadata": {
      "tags": []
     },
     "output_type": "execute_result"
    }
   ],
   "source": [
    "# Classification\n",
    "\n",
    "# KNN\n",
    "from sklearn.neighbors import KNeighborsClassifier\n",
    "neigh = KNeighborsClassifier(n_neighbors=4, metric='cosine')\n",
    "X_train = np.array(X1+X2)\n",
    "Y_train = np.array(Y1+Y2)\n",
    "neigh.fit(X_train, Y_train)\n",
    "\n"
   ]
  },
  {
   "cell_type": "code",
   "execution_count": 200,
   "metadata": {
    "colab": {
     "base_uri": "https://localhost:8080/",
     "height": 91
    },
    "id": "K95noBwz4rhN",
    "outputId": "d8896d18-05b9-4d6c-c1cd-18801e2266e7"
   },
   "outputs": [
    {
     "name": "stdout",
     "output_type": "stream",
     "text": [
      "0.754601226993865 0.754601226993865 0.754601226993865\n",
      "No change: 0: 127, 1:8, 2:7\n",
      "Increase: 0: 5, 1:62, 2:15\n",
      "Decrease: 0: 5, 1:40, 2:57\n"
     ]
    }
   ],
   "source": [
    "#Precision, recall, and accuracy on the development dataset, before hyperparameter tuning\n",
    "\n",
    "from sklearn.metrics import recall_score\n",
    "from sklearn.metrics import precision_score\n",
    "from sklearn.metrics import accuracy_score\n",
    "import numpy as np\n",
    "\n",
    "\n",
    "X_dev1 = np.array(X_nochange)\n",
    "X_dev2 = np.array(X_tweetAprtoSept_Increase)\n",
    "X_dev3 = np.array(X_tweetAprtoSept_Decrease)\n",
    "\n",
    "p1 = neigh.predict(X_dev1)\n",
    "p2 = neigh.predict(X_dev2)\n",
    "p3 = neigh.predict(X_dev3)\n",
    "\n",
    "Y_dev_true = [0]*len(X_dev1) + [1]*len(X_dev2) + [2]*len(X_dev3)\n",
    "Y_dev_predict = list(p1) + list(p2) + list(p3)\n",
    "precision = precision_score(Y_dev_true, Y_dev_predict, average='micro')\n",
    "recall_score = recall_score(Y_dev_true, Y_dev_predict, average='micro')\n",
    "accuracy_score = accuracy_score(Y_dev_predict, Y_dev_true)\n",
    "print(precision, recall_score, accuracy_score)\n",
    "\n",
    "print(\"No change: 0: {}, 1:{}, 2:{}\".format(np.count_nonzero(p1 == 0), np.count_nonzero(p1 == 1), np.count_nonzero(p1 == 2)))\n",
    "print(\"Increase: 0: {}, 1:{}, 2:{}\".format(np.count_nonzero(p2 == 0), np.count_nonzero(p2 == 1), np.count_nonzero(p2 == 2)))\n",
    "print(\"Decrease: 0: {}, 1:{}, 2:{}\".format(np.count_nonzero(p3 == 0), np.count_nonzero(p3 == 1), np.count_nonzero(p3 == 2)))"
   ]
  },
  {
   "cell_type": "code",
   "execution_count": 192,
   "metadata": {
    "colab": {
     "base_uri": "https://localhost:8080/",
     "height": 91
    },
    "id": "BjlB25czMTNJ",
    "outputId": "b849d005-6300-4160-c73b-065aca9d992d"
   },
   "outputs": [
    {
     "name": "stdout",
     "output_type": "stream",
     "text": [
      "Fitting 3 folds for each of 25 candidates, totalling 75 fits\n"
     ]
    },
    {
     "name": "stderr",
     "output_type": "stream",
     "text": [
      "[Parallel(n_jobs=-1)]: Using backend LokyBackend with 2 concurrent workers.\n",
      "[Parallel(n_jobs=-1)]: Done  75 out of  75 | elapsed:    0.4s finished\n"
     ]
    },
    {
     "data": {
      "text/plain": [
       "0.638888888888889"
      ]
     },
     "execution_count": 192,
     "metadata": {
      "tags": []
     },
     "output_type": "execute_result"
    }
   ],
   "source": [
    "# Hyperparameter tuning for KNN with grid search\n",
    "\n",
    "from sklearn.model_selection import GridSearchCV\n",
    "\n",
    "hyperparams = {'n_neighbors': [3,4,5,6,9],\n",
    "          'weights': ['distance'],\n",
    "          'metric': ['euclidian', 'cosine', 'manhattan', 'jaccard', 'minkowski']}\n",
    "gs = GridSearchCV(KNeighborsClassifier(), hyperparams, verbose=1, cv=3, n_jobs=-1)\n",
    "X_train = np.array(X1+X2)\n",
    "Y_train = np.array(Y1+Y2)\n",
    "goodmodel = gs.fit(X_train, Y_train)\n",
    "goodmodel.best_score_ "
   ]
  },
  {
   "cell_type": "code",
   "execution_count": 193,
   "metadata": {
    "colab": {
     "base_uri": "https://localhost:8080/",
     "height": 91
    },
    "id": "0-MDPkuFGxE1",
    "outputId": "fa5df4b4-bfd4-46ab-e945-ae7844e8c862"
   },
   "outputs": [
    {
     "name": "stdout",
     "output_type": "stream",
     "text": [
      "0.9846625766871165 0.9846625766871165 0.9846625766871165\n",
      "No change: 0: 142, 1:0, 2:0\n",
      "Increase: 0: 1, 1:80, 2:1\n",
      "Decrease: 0: 2, 1:1, 2:99\n"
     ]
    }
   ],
   "source": [
    "#Precision, recall, and accuracy on the development dataset, with the obtained good set of hyperparameters\n",
    "\n",
    "from sklearn.metrics import recall_score\n",
    "from sklearn.metrics import precision_score\n",
    "from sklearn.metrics import accuracy_score\n",
    "import numpy as np\n",
    "\n",
    "X_dev1 = np.array(X_nochange)\n",
    "X_dev2 = np.array(X_tweetAprtoSept_Increase)\n",
    "X_dev3 = np.array(X_tweetAprtoSept_Decrease)\n",
    "\n",
    "p1 = goodmodel.predict(X_dev1)\n",
    "p2 = goodmodel.predict(X_dev2)\n",
    "p3 = goodmodel.predict(X_dev3)\n",
    "\n",
    "Y_dev_true = [0]*len(X_dev1) + [1]*len(X_dev2) + [2]*len(X_dev3)\n",
    "Y_dev_predict = list(p1) + list(p2) + list(p3)\n",
    "precision = precision_score(Y_dev_true, Y_dev_predict, average='micro')\n",
    "recall_score = recall_score(Y_dev_true, Y_dev_predict, average='micro')\n",
    "accuracy_score = accuracy_score(Y_dev_predict, Y_dev_true)\n",
    "print(precision, recall_score, accuracy_score)\n",
    "\n",
    "print(\"No change: 0: {}, 1:{}, 2:{}\".format(np.count_nonzero(p1 == 0), np.count_nonzero(p1 == 1), np.count_nonzero(p1 == 2)))\n",
    "print(\"Increase: 0: {}, 1:{}, 2:{}\".format(np.count_nonzero(p2 == 0), np.count_nonzero(p2 == 1), np.count_nonzero(p2 == 2)))\n",
    "print(\"Decrease: 0: {}, 1:{}, 2:{}\".format(np.count_nonzero(p3 == 0), np.count_nonzero(p3 == 1), np.count_nonzero(p3 == 2)))"
   ]
  },
  {
   "cell_type": "code",
   "execution_count": 144,
   "metadata": {
    "colab": {
     "base_uri": "https://localhost:8080/",
     "height": 36
    },
    "id": "Hn53sAYiHMiZ",
    "outputId": "70bb65f3-51df-4c68-e184-b919079f5859"
   },
   "outputs": [
    {
     "data": {
      "text/plain": [
       "{'metric': 'manhattan', 'n_neighbors': 9, 'weights': 'distance'}"
      ]
     },
     "execution_count": 144,
     "metadata": {
      "tags": []
     },
     "output_type": "execute_result"
    }
   ],
   "source": [
    "goodmodel.best_params_"
   ]
  },
  {
   "cell_type": "code",
   "execution_count": 202,
   "metadata": {
    "colab": {
     "base_uri": "https://localhost:8080/",
     "height": 36
    },
    "id": "9KvCg5bSHch2",
    "outputId": "795ed62e-9bd8-47f1-9f2e-590a81267136"
   },
   "outputs": [
    {
     "name": "stdout",
     "output_type": "stream",
     "text": [
      "0.5 0.5 0.5\n"
     ]
    }
   ],
   "source": [
    "# Precision, Recall, and Accuracy for Test Dataset\n",
    "\n",
    "from sklearn.metrics import recall_score\n",
    "from sklearn.metrics import precision_score\n",
    "from sklearn.metrics import accuracy_score\n",
    "import numpy as np\n",
    "\n",
    "X_test = np.array(X3)\n",
    "\n",
    "Y_test_true = Y3\n",
    "Y_test_predict = list(neigh.predict(X_test))  \n",
    "precision = precision_score(Y_test_true, Y_test_predict, average='micro')\n",
    "recall_score = recall_score(Y_test_true, Y_test_predict, average='micro')\n",
    "accuracy_score = accuracy_score(Y_test_predict, Y_test_true)\n",
    "print(precision, recall_score, accuracy_score)\n"
   ]
  },
  {
   "cell_type": "code",
   "execution_count": 203,
   "metadata": {
    "colab": {
     "base_uri": "https://localhost:8080/",
     "height": 723
    },
    "id": "foBrw8qvfUrP",
    "outputId": "2baa99b2-1661-47f6-87b3-ce3362e91eb6"
   },
   "outputs": [
    {
     "name": "stdout",
     "output_type": "stream",
     "text": [
      "Confusion matrix, without normalization\n",
      "[[1 0 0]\n",
      " [0 2 0]\n",
      " [0 0 3]]\n",
      "Normalized confusion matrix\n",
      "[[1. 0. 0.]\n",
      " [0. 1. 0.]\n",
      " [0. 0. 1.]]\n"
     ]
    },
    {
     "data": {
      "image/png": "[encoded data removed]",
      "text/plain": [
       "<Figure size 432x288 with 2 Axes>"
      ]
     },
     "metadata": {
      "needs_background": "light",
      "tags": []
     },
     "output_type": "display_data"
    },
    {
     "data": {
      "image/png": "[encoded data removed]",
      "text/plain": [
       "<Figure size 432x288 with 2 Axes>"
      ]
     },
     "metadata": {
      "needs_background": "light",
      "tags": []
     },
     "output_type": "display_data"
    }
   ],
   "source": [
    "# Confusion Matrix\n",
    "\n",
    "from sklearn.metrics import multilabel_confusion_matrix\n",
    "from sklearn.metrics import plot_confusion_matrix\n",
    "import matplotlib.pyplot as plt\n",
    "\n",
    "multilabel_confusion_matrix(Y_test_true, Y_test_predict, labels=[0, 1, 2])\n",
    "np.set_printoptions(precision=2)\n",
    "\n",
    "# Plot non-normalized confusion matrix\n",
    "titles_options = [(\"Confusion matrix, without normalization\", None),\n",
    "                  (\"Normalized confusion matrix\", 'true')]\n",
    "for title, normalize in titles_options:\n",
    "    disp = plot_confusion_matrix(neigh, X_test, Y_test_predict,\n",
    "                                 display_labels=np.array([\"NO_CHANGE\", \"INCREASE\", \"DECREASE\"]),\n",
    "                                 cmap=plt.cm.Blues,\n",
    "                                 normalize=normalize)\n",
    "    disp.ax_.set_title(title)\n",
    "\n",
    "\n",
    "    print(title)\n",
    "    print(disp.confusion_matrix)\n",
    "\n",
    "\n",
    "plt.show()\n",
    " \n",
    "\n",
    "\n",
    "\n",
    "\n",
    "\n",
    "\n"
   ]
  },
  {
   "cell_type": "code",
   "execution_count": 105,
   "metadata": {
    "colab": {
     "base_uri": "https://localhost:8080/",
     "height": 36
    },
    "id": "F8E7WZqsjh2G",
    "outputId": "484ab40e-71de-4a34-beb5-a1ecc64dcb45"
   },
   "outputs": [
    {
     "data": {
      "text/plain": [
       "[1, 1, 2, 2, 1, 1, 2, 1, 1, 2, 1, 2, 1, 2, 2, 2, 2, 1]"
      ]
     },
     "execution_count": 105,
     "metadata": {
      "tags": []
     },
     "output_type": "execute_result"
    }
   ],
   "source": [
    "Y_test_true"
   ]
  },
  {
   "cell_type": "code",
   "execution_count": null,
   "metadata": {
    "id": "Wsi6CbHFHYsK"
   },
   "outputs": [],
   "source": []
  }
 ],
 "metadata": {
  "accelerator": "TPU",
  "colab": {
   "collapsed_sections": [],
   "name": "NLP_TWITTER_COVID.ipynb",
   "provenance": []
  },
  "kernelspec": {
   "display_name": "Python 3",
   "language": "python",
   "name": "python3"
  },
  "language_info": {
   "codemirror_mode": {
    "name": "ipython",
    "version": 3
   },
   "file_extension": ".py",
   "mimetype": "text/x-python",
   "name": "python",
   "nbconvert_exporter": "python",
   "pygments_lexer": "ipython3",
   "version": "3.8.6"
  }
 },
 "nbformat": 4,
 "nbformat_minor": 1
}
